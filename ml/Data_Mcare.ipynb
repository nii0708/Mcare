{
  "nbformat": 4,
  "nbformat_minor": 0,
  "metadata": {
    "colab": {
      "name": "Data_Mcare.ipynb",
      "provenance": [],
      "collapsed_sections": [
        "CfJQKsvJLXrh",
        "t-k3iCGwLix-",
        "wqn2H4wXMXPb"
      ]
    },
    "kernelspec": {
      "name": "python3",
      "display_name": "Python 3"
    },
    "language_info": {
      "name": "python"
    }
  },
  "cells": [
    {
      "cell_type": "markdown",
      "source": [
        "Import module"
      ],
      "metadata": {
        "id": "8MShmqK2meNC"
      }
    },
    {
      "cell_type": "code",
      "source": [
        "!pip install ftfy"
      ],
      "metadata": {
        "colab": {
          "base_uri": "https://localhost:8080/"
        },
        "id": "Tk87tQ29l_Fn",
        "outputId": "7e132934-71b4-4c2e-e259-98b00e7b9414"
      },
      "execution_count": null,
      "outputs": [
        {
          "output_type": "stream",
          "name": "stdout",
          "text": [
            "Looking in indexes: https://pypi.org/simple, https://us-python.pkg.dev/colab-wheels/public/simple/\n",
            "Collecting ftfy\n",
            "  Downloading ftfy-6.1.1-py3-none-any.whl (53 kB)\n",
            "\u001b[K     |████████████████████████████████| 53 kB 576 kB/s \n",
            "\u001b[?25hRequirement already satisfied: wcwidth>=0.2.5 in /usr/local/lib/python3.7/dist-packages (from ftfy) (0.2.5)\n",
            "Installing collected packages: ftfy\n",
            "Successfully installed ftfy-6.1.1\n"
          ]
        }
      ]
    },
    {
      "cell_type": "code",
      "execution_count": null,
      "metadata": {
        "id": "DT1Bz7NfmYeI",
        "colab": {
          "base_uri": "https://localhost:8080/"
        },
        "outputId": "89661165-5664-45c2-c768-d22ab046dff3"
      },
      "outputs": [
        {
          "output_type": "stream",
          "name": "stdout",
          "text": [
            "[nltk_data] Downloading package stopwords to /root/nltk_data...\n",
            "[nltk_data]   Unzipping corpora/stopwords.zip.\n",
            "[nltk_data] Downloading package punkt to /root/nltk_data...\n",
            "[nltk_data]   Unzipping tokenizers/punkt.zip.\n"
          ]
        }
      ],
      "source": [
        "import tensorflow as tf\n",
        "import matplotlib.pyplot as plt\n",
        "import numpy as np\n",
        "import pandas as pd\n",
        "\n",
        "\n",
        "from tensorflow.keras.preprocessing.text import Tokenizer\n",
        "from tensorflow.keras.preprocessing.sequence import pad_sequences\n",
        "from tensorflow.keras.layers import Embedding, LSTM, Dense, Dropout, Bidirectional\n",
        "from tensorflow.keras.models import Sequential\n",
        "from tensorflow.keras.optimizers import Adam\n",
        "from tensorflow.keras.regularizers import Regularizer\n",
        "import tensorflow.keras.utils as ku \n",
        "import random\n",
        "import ftfy\n",
        "import nltk\n",
        "nltk.download(\"stopwords\")\n",
        "nltk.download(\"punkt\")\n",
        "import re\n",
        "from nltk.corpus import stopwords\n",
        "from nltk import PorterStemmer"
      ]
    },
    {
      "cell_type": "markdown",
      "source": [
        "import data dari google drive"
      ],
      "metadata": {
        "id": "HddonZdLopwo"
      }
    },
    {
      "cell_type": "code",
      "source": [
        "from google.colab import drive\n",
        "drive.mount('/content/drive')"
      ],
      "metadata": {
        "colab": {
          "base_uri": "https://localhost:8080/"
        },
        "id": "69Ak9VePosux",
        "outputId": "a3112344-e98e-4616-e8bc-93d800b10df1"
      },
      "execution_count": null,
      "outputs": [
        {
          "output_type": "stream",
          "name": "stdout",
          "text": [
            "Mounted at /content/drive\n"
          ]
        }
      ]
    },
    {
      "cell_type": "markdown",
      "source": [
        "**Fungsi Penting**\n"
      ],
      "metadata": {
        "id": "J99YVgPSyY95"
      }
    },
    {
      "cell_type": "code",
      "source": [
        "cList = {\n",
        "  \"ain't\": \"am not\",\n",
        "  \"aren't\": \"are not\",\n",
        "  \"can't\": \"cannot\",\n",
        "  \"can't've\": \"cannot have\",\n",
        "  \"'cause\": \"because\",\n",
        "  \"could've\": \"could have\",\n",
        "  \"couldn't\": \"could not\",\n",
        "  \"couldn't've\": \"could not have\",\n",
        "  \"didn't\": \"did not\",\n",
        "  \"doesn't\": \"does not\",\n",
        "  \"don't\": \"do not\",\n",
        "  \"hadn't\": \"had not\",\n",
        "  \"hadn't've\": \"had not have\",\n",
        "  \"hasn't\": \"has not\",\n",
        "  \"haven't\": \"have not\",\n",
        "  \"he'd\": \"he would\",\n",
        "  \"he'd've\": \"he would have\",\n",
        "  \"he'll\": \"he will\",\n",
        "  \"he'll've\": \"he will have\",\n",
        "  \"he's\": \"he is\",\n",
        "  \"how'd\": \"how did\",\n",
        "  \"how'd'y\": \"how do you\",\n",
        "  \"how'll\": \"how will\",\n",
        "  \"how's\": \"how is\",\n",
        "  \"I'd\": \"I would\",\n",
        "  \"I'd've\": \"I would have\",\n",
        "  \"I'll\": \"I will\",\n",
        "  \"I'll've\": \"I will have\",\n",
        "  \"I'm\": \"I am\",\n",
        "  \"I've\": \"I have\",\n",
        "  \"isn't\": \"is not\",\n",
        "  \"it'd\": \"it had\",\n",
        "  \"it'd've\": \"it would have\",\n",
        "  \"it'll\": \"it will\",\n",
        "  \"it'll've\": \"it will have\",\n",
        "  \"it's\": \"it is\",\n",
        "  \"let's\": \"let us\",\n",
        "  \"ma'am\": \"madam\",\n",
        "  \"mayn't\": \"may not\",\n",
        "  \"might've\": \"might have\",\n",
        "  \"mightn't\": \"might not\",\n",
        "  \"mightn't've\": \"might not have\",\n",
        "  \"must've\": \"must have\",\n",
        "  \"mustn't\": \"must not\",\n",
        "  \"mustn't've\": \"must not have\",\n",
        "  \"needn't\": \"need not\",\n",
        "  \"needn't've\": \"need not have\",\n",
        "  \"o'clock\": \"of the clock\",\n",
        "  \"oughtn't\": \"ought not\",\n",
        "  \"oughtn't've\": \"ought not have\",\n",
        "  \"shan't\": \"shall not\",\n",
        "  \"sha'n't\": \"shall not\",\n",
        "  \"shan't've\": \"shall not have\",\n",
        "  \"she'd\": \"she would\",\n",
        "  \"she'd've\": \"she would have\",\n",
        "  \"she'll\": \"she will\",\n",
        "  \"she'll've\": \"she will have\",\n",
        "  \"she's\": \"she is\",\n",
        "  \"should've\": \"should have\",\n",
        "  \"shouldn't\": \"should not\",\n",
        "  \"shouldn't've\": \"should not have\",\n",
        "  \"so've\": \"so have\",\n",
        "  \"so's\": \"so is\",\n",
        "  \"that'd\": \"that would\",\n",
        "  \"that'd've\": \"that would have\",\n",
        "  \"that's\": \"that is\",\n",
        "  \"there'd\": \"there had\",\n",
        "  \"there'd've\": \"there would have\",\n",
        "  \"there's\": \"there is\",\n",
        "  \"they'd\": \"they would\",\n",
        "  \"they'd've\": \"they would have\",\n",
        "  \"they'll\": \"they will\",\n",
        "  \"they'll've\": \"they will have\",\n",
        "  \"they're\": \"they are\",\n",
        "  \"they've\": \"they have\",\n",
        "  \"to've\": \"to have\",\n",
        "  \"wasn't\": \"was not\",\n",
        "  \"we'd\": \"we had\",\n",
        "  \"we'd've\": \"we would have\",\n",
        "  \"we'll\": \"we will\",\n",
        "  \"we'll've\": \"we will have\",\n",
        "  \"we're\": \"we are\",\n",
        "  \"we've\": \"we have\",\n",
        "  \"weren't\": \"were not\",\n",
        "  \"what'll\": \"what will\",\n",
        "  \"what'll've\": \"what will have\",\n",
        "  \"what're\": \"what are\",\n",
        "  \"what's\": \"what is\",\n",
        "  \"what've\": \"what have\",\n",
        "  \"when's\": \"when is\",\n",
        "  \"when've\": \"when have\",\n",
        "  \"where'd\": \"where did\",\n",
        "  \"where's\": \"where is\",\n",
        "  \"where've\": \"where have\",\n",
        "  \"who'll\": \"who will\",\n",
        "  \"who'll've\": \"who will have\",\n",
        "  \"who's\": \"who is\",\n",
        "  \"who've\": \"who have\",\n",
        "  \"why's\": \"why is\",\n",
        "  \"why've\": \"why have\",\n",
        "  \"will've\": \"will have\",\n",
        "  \"won't\": \"will not\",\n",
        "  \"won't've\": \"will not have\",\n",
        "  \"would've\": \"would have\",\n",
        "  \"wouldn't\": \"would not\",\n",
        "  \"wouldn't've\": \"would not have\",\n",
        "  \"y'all\": \"you all\",\n",
        "  \"y'alls\": \"you alls\",\n",
        "  \"y'all'd\": \"you all would\",\n",
        "  \"y'all'd've\": \"you all would have\",\n",
        "  \"y'all're\": \"you all are\",\n",
        "  \"y'all've\": \"you all have\",\n",
        "  \"you'd\": \"you had\",\n",
        "  \"you'd've\": \"you would have\",\n",
        "  \"you'll\": \"you you will\",\n",
        "  \"you'll've\": \"you you will have\",\n",
        "  \"you're\": \"you are\",\n",
        "  \"you've\": \"you have\"\n",
        "}\n",
        "\n",
        "c_re = re.compile('(%s)' % '|'.join(cList.keys()))\n",
        "\n",
        "def expandContractions(text, c_re=c_re):\n",
        "    def replace(match):\n",
        "        return cList[match.group(0)]\n",
        "    return c_re.sub(replace, text)"
      ],
      "metadata": {
        "id": "c6wv2m0bmUPa"
      },
      "execution_count": null,
      "outputs": []
    },
    {
      "cell_type": "code",
      "source": [
        "def clean_tweets(tweets):\n",
        "    cleaned_tweets = []\n",
        "    for tweet in tweets:\n",
        "        tweet = str(tweet)\n",
        "        # if url links then dont append to avoid news articles\n",
        "        # also check tweet length, save those > 10 (length of word \"depression\")\n",
        "        if re.match(\"(\\w+:\\/\\/\\S+)\", tweet) == None and len(tweet) > 10:\n",
        "            # remove hashtag, @mention, emoji and image URLs\n",
        "            tweet = ' '.join(\n",
        "                re.sub(\"(@[A-Za-z0-9]+)|(\\#[A-Za-z0-9]+)|(<Emoji:.*>)|(pic\\.twitter\\.com\\/.*)\", \" \", tweet).split())\n",
        "\n",
        "            # fix weirdly encoded texts\n",
        "            tweet = ftfy.fix_text(tweet)\n",
        "\n",
        "            # expand contraction\n",
        "            tweet = expandContractions(tweet)\n",
        "\n",
        "            # remove punctuation\n",
        "            tweet = ' '.join(re.sub(\"([^0-9A-Za-z \\t])\", \" \", tweet).split())\n",
        "\n",
        "            # stop words\n",
        "            stop_words = set(stopwords.words('english'))\n",
        "            word_tokens = nltk.word_tokenize(tweet)\n",
        "            filtered_sentence = [w for w in word_tokens if not w in stop_words]\n",
        "            tweet = ' '.join(filtered_sentence)\n",
        "\n",
        "            # stemming words\n",
        "            tweet = PorterStemmer().stem(tweet)\n",
        "\n",
        "            cleaned_tweets.append(tweet)\n",
        "\n",
        "    return cleaned_tweets"
      ],
      "metadata": {
        "id": "elXl7s5slKK4"
      },
      "execution_count": null,
      "outputs": []
    },
    {
      "cell_type": "markdown",
      "source": [
        "#Membuat dataset"
      ],
      "metadata": {
        "id": "CfJQKsvJLXrh"
      }
    },
    {
      "cell_type": "markdown",
      "source": [
        ">**Depression on Twitter**\n",
        "\n",
        "We use three dataset pegged into one, for noting bad condition we use:\n",
        "\n",
        "*   depression dataset:\n",
        "https://github.com/eddieir/Depression_detection_using_Twitter_post\n",
        "*   suicidal dataset\n",
        "https://github.com/laxmimerit/twitter-suicidal-intention-dataset\n",
        "\n",
        "and for normal condition we use this dataset:\n",
        "*   Sentiment Analysis Dataset 2.csv from https://www.kaggle.com/datasets/ywang311/twitter-sentiment"
      ],
      "metadata": {
        "id": "xXKEondhoIED"
      }
    },
    {
      "cell_type": "code",
      "source": [
        "depresi  = pd.read_csv('/content/drive/MyDrive/M_care/depressive_tweets_processed.csv', sep = '|', header = None, usecols = range(1,9), nrows = 3842)\n",
        "suicidal = pd.read_csv('/content/drive/MyDrive/M_care/twitter-suicidal_data.csv')\n",
        "bad      = pd.read_csv('/content/drive/MyDrive/M_care/Sentiment Analysis Dataset 2.csv', encoding = \"ISO-8859-1\", usecols = range(0,4), nrows = 12588)"
      ],
      "metadata": {
        "id": "Gk5I83n2p_ZM"
      },
      "execution_count": null,
      "outputs": []
    },
    {
      "cell_type": "code",
      "source": [
        "dp  = [x for x in depresi[5]]\n",
        "sc  = [x for x in suicidal[suicidal.intention == 1].tweet]\n",
        "nd  = [x for x in non_bad['SentimentText']]\n",
        "X_dp = clean_tweets(dp)\n",
        "X_sc = clean_tweets(sc)\n",
        "X_nd = clean_tweets(nd)"
      ],
      "metadata": {
        "id": "mOioJylbsX30"
      },
      "execution_count": null,
      "outputs": []
    },
    {
      "cell_type": "code",
      "source": [
        "(len(X_dp[:-4])+len(X_sc[:-4]))"
      ],
      "metadata": {
        "colab": {
          "base_uri": "https://localhost:8080/"
        },
        "id": "NVTDKjKxHz8B",
        "outputId": "d0b117be-d7d7-41fc-b413-dc708aa86ce4"
      },
      "execution_count": null,
      "outputs": [
        {
          "output_type": "execute_result",
          "data": {
            "text/plain": [
              "6294"
            ]
          },
          "metadata": {},
          "execution_count": 66
        }
      ]
    },
    {
      "cell_type": "code",
      "source": [
        "well  = X_nd[:6294*2].copy()"
      ],
      "metadata": {
        "id": "yKtLS7OOoVRo"
      },
      "execution_count": null,
      "outputs": []
    },
    {
      "cell_type": "code",
      "source": [
        "nwell = X_dp[:-4].copy()+X_sc[:-4].copy()"
      ],
      "metadata": {
        "id": "ouI3Oz4g4p55"
      },
      "execution_count": null,
      "outputs": []
    },
    {
      "cell_type": "markdown",
      "source": [
        "Deskripsi"
      ],
      "metadata": {
        "id": "JfIjTSvipqes"
      }
    },
    {
      "cell_type": "code",
      "source": [
        "NDATA=int(6294/6)\n",
        "data_1_1=nwell[       :NDATA*1]\n",
        "data_1_2=nwell[NDATA*1:NDATA*2]\n",
        "data_1_3=nwell[NDATA*2:NDATA*3]\n",
        "data_1_4=nwell[NDATA*3:NDATA*4]\n",
        "data_1_5=nwell[NDATA*4:NDATA*5]\n",
        "data_1_6=nwell[NDATA*5:]\n",
        "data_1_7=well[NDATA*0:NDATA*1]\n",
        "data_1_8=well[NDATA*1:NDATA*2]\n",
        "data_1_9=well[NDATA*2:NDATA*3]\n",
        "data_1_10=well[NDATA*3:NDATA*4]\n",
        "data_1_11=well[NDATA*4:NDATA*5]\n",
        "data_1_12=well[NDATA*5:NDATA*6]\n",
        "data_1_13=well[NDATA*6:NDATA*7]\n",
        "data_1_14=well[NDATA*7:NDATA*8]\n",
        "data_1_15=well[NDATA*8:NDATA*9]\n",
        "data_1_16=well[NDATA*9:NDATA*10]\n",
        "data_1_17=well[NDATA*10:NDATA*11]\n",
        "data_1_18=well[NDATA*11:NDATA*12]"
      ],
      "metadata": {
        "id": "JkYtNsl3jzLA"
      },
      "execution_count": null,
      "outputs": []
    },
    {
      "cell_type": "code",
      "source": [
        "tweet_1 = data_1_1+data_1_2+data_1_3+data_1_16+data_1_17+data_1_18\n",
        "tweet_2 = data_1_4+data_1_5+data_1_12+data_1_13+data_1_14+data_1_15\n",
        "tweet_3 = data_1_6+data_1_7+data_1_8+data_1_9+data_1_10+data_1_11"
      ],
      "metadata": {
        "id": "Rf7EhfTDmsHq"
      },
      "execution_count": null,
      "outputs": []
    },
    {
      "cell_type": "code",
      "source": [
        "len(tweet_3)/2"
      ],
      "metadata": {
        "colab": {
          "base_uri": "https://localhost:8080/"
        },
        "id": "4gyzZ-FUKB_O",
        "outputId": "cf45974c-d1e1-4626-e232-3be7ac167918"
      },
      "execution_count": null,
      "outputs": [
        {
          "output_type": "execute_result",
          "data": {
            "text/plain": [
              "3147.0"
            ]
          },
          "metadata": {},
          "execution_count": 83
        }
      ]
    },
    {
      "cell_type": "code",
      "source": [
        "target=[0 for i in range(3147)]+[1 for i in range(3147)]"
      ],
      "metadata": {
        "id": "02zTxz6pkCgI"
      },
      "execution_count": null,
      "outputs": []
    },
    {
      "cell_type": "code",
      "source": [
        "\n",
        "data = {'tweet1': tweet_1, 'tweet2': tweet_2,'tweet3':tweet_3,'target':target}"
      ],
      "metadata": {
        "id": "_qGcHTmaldiV"
      },
      "execution_count": null,
      "outputs": []
    },
    {
      "cell_type": "code",
      "source": [
        "df = pd.DataFrame(data=data)"
      ],
      "metadata": {
        "id": "sgqab4YRm7dI"
      },
      "execution_count": null,
      "outputs": []
    },
    {
      "cell_type": "code",
      "source": [
        "df.to_csv('tiga_tweet.csv')"
      ],
      "metadata": {
        "id": "CDFxSn3ikCu2"
      },
      "execution_count": null,
      "outputs": []
    },
    {
      "cell_type": "code",
      "source": [
        "df.info()"
      ],
      "metadata": {
        "colab": {
          "base_uri": "https://localhost:8080/"
        },
        "id": "KhvkZZWIDMNu",
        "outputId": "1c18c1f3-573d-494b-a3f2-71373f2946e2"
      },
      "execution_count": null,
      "outputs": [
        {
          "output_type": "stream",
          "name": "stdout",
          "text": [
            "<class 'pandas.core.frame.DataFrame'>\n",
            "RangeIndex: 2304 entries, 0 to 2303\n",
            "Data columns (total 4 columns):\n",
            " #   Column  Non-Null Count  Dtype \n",
            "---  ------  --------------  ----- \n",
            " 0   tweet1  2304 non-null   object\n",
            " 1   tweet2  2304 non-null   object\n",
            " 2   tweet3  2304 non-null   object\n",
            " 3   target  2304 non-null   int64 \n",
            "dtypes: int64(1), object(3)\n",
            "memory usage: 72.1+ KB\n"
          ]
        }
      ]
    }
  ]
}