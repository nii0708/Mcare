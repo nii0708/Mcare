{
  "nbformat": 4,
  "nbformat_minor": 0,
  "metadata": {
    "colab": {
      "name": "Model_MCare.ipynb",
      "provenance": []
    },
    "kernelspec": {
      "name": "python3",
      "display_name": "Python 3"
    },
    "language_info": {
      "name": "python"
    }
  },
  "cells": [
    {
      "cell_type": "markdown",
      "source": [
        "Import and download libraries"
      ],
      "metadata": {
        "id": "VF1LG9qk1pqJ"
      }
    },
    {
      "cell_type": "code",
      "execution_count": 1,
      "metadata": {
        "id": "PlCX8_g_1Zku"
      },
      "outputs": [],
      "source": [
        "import tensorflow as tf\n",
        "import matplotlib.pyplot as plt\n",
        "import numpy as np\n",
        "import pandas as pd\n",
        "from tensorflow.keras.preprocessing.text import Tokenizer\n",
        "from tensorflow.keras.preprocessing.sequence import pad_sequences\n",
        "from tensorflow.keras.layers import Embedding, LSTM, Dense, Dropout, Bidirectional,Dense\n",
        "from tensorflow.keras.models import Sequential\n",
        "from tensorflow.keras.optimizers import Adam\n",
        "from tensorflow.keras.regularizers import Regularizer\n",
        "import tensorflow.keras.utils as ku \n",
        "import random"
      ]
    },
    {
      "cell_type": "markdown",
      "source": [
        "important functions"
      ],
      "metadata": {
        "id": "zgqOGfyO1wH6"
      }
    },
    {
      "cell_type": "code",
      "source": [
        "#make rows as dict\n",
        "def gen_rows(df):\n",
        "    for row in df.itertuples(index=False):\n",
        "        yield row._asdict()"
      ],
      "metadata": {
        "id": "w9EUUdcT1oX8"
      },
      "execution_count": 2,
      "outputs": []
    },
    {
      "cell_type": "code",
      "source": [
        "#randomizing data\n",
        "def rndm(test_list1,test_list2):\n",
        "  temp = list(zip(test_list1, test_list2))\n",
        "  random.shuffle(temp)\n",
        "  res1, res2 = zip(*temp)\n",
        "  res1, res2 = list(res1), list(res2)\n",
        "  return res1,res2"
      ],
      "metadata": {
        "id": "QmiCFnDt12s0"
      },
      "execution_count": 3,
      "outputs": []
    },
    {
      "cell_type": "markdown",
      "source": [
        "constant"
      ],
      "metadata": {
        "id": "WOfeBOqc_29d"
      }
    },
    {
      "cell_type": "code",
      "source": [
        "stopword = [ \"a\", \"about\", \"am\", \"an\", \"and\", \"any\", \"are\", \"as\", \"at\", \"be\", \"because\", \"been\", \"before\", \"between\", \"both\", \"but\", \"by\", \"could\", \"did\", \"do\", \"does\", \"doing\", \"down\", \"during\", \"each\", \"few\", \"for\", \"from\", \"further\", \"had\", \"has\", \"have\", \"having\", \"he\", \"he'd\", \"he'll\", \"he's\", \"her\", \"here\", \"here's\", \"hers\", \"herself\", \"him\", \"himself\", \"his\", \"how\", \"how's\", \"into\", \"is\", \"it\", \"it's\", \"its\", \"itself\", \"let's\", \"me\", \"more\", \"most\", \"nor\", \"of\", \"on\", \"once\", \"only\", \"or\", \"other\", \"ought\", \"our\", \"ours\", \"ourselves\", \"out\", \"own\", \"same\", \"she\", \"she'd\", \"she'll\", \"she's\", \"should\", \"so\", \"some\", \"such\", \"than\", \"that\", \"that's\", \"the\", \"their\", \"theirs\", \"them\", \"themselves\", \"then\", \"there\", \"there's\", \"these\", \"they\", \"they'd\", \"they'll\", \"they're\", \"they've\", \"this\", \"those\", \"through\", \"to\", \"too\", \"under\", \"until\", \"up\",  \"was\", \"we\", \"we'd\", \"we'll\", \"we're\", \"we've\", \"were\", \"what\", \"what's\", \"when\", \"when's\", \"where\", \"where's\", \"which\", \"while\", \"who\", \"who's\", \"whom\", \"why\", \"why's\", \"with\" ] "
      ],
      "metadata": {
        "id": "zh48Zcry14L8"
      },
      "execution_count": 4,
      "outputs": []
    },
    {
      "cell_type": "code",
      "source": [
        "embedding_dim = 100\n",
        "max_length = 16\n",
        "trunc_type='post'\n",
        "padding_type='post'\n",
        "oov_tok = \"<OOV>\"\n",
        "training_size=2304 \n",
        "test_portion=.3"
      ],
      "metadata": {
        "id": "9rC02KBK_9w7"
      },
      "execution_count": 5,
      "outputs": []
    },
    {
      "cell_type": "markdown",
      "source": [
        "import data"
      ],
      "metadata": {
        "id": "qGk_y5kaAJVL"
      }
    },
    {
      "cell_type": "code",
      "source": [
        "df=pd.read_csv('/content/tiga_tweet.csv')"
      ],
      "metadata": {
        "id": "CCsyqHJFks4e"
      },
      "execution_count": 7,
      "outputs": []
    },
    {
      "cell_type": "code",
      "source": [
        "#import from drive\n",
        "from google.colab import drive\n",
        "drive.mount('/content/drive')"
      ],
      "metadata": {
        "colab": {
          "base_uri": "https://localhost:8080/"
        },
        "id": "47urstFIANuE",
        "outputId": "0205bb2b-d019-460f-dfc5-135881aa1d8b"
      },
      "execution_count": 8,
      "outputs": [
        {
          "output_type": "stream",
          "name": "stdout",
          "text": [
            "Mounted at /content/drive\n"
          ]
        }
      ]
    },
    {
      "cell_type": "code",
      "source": [
        "tweets=df.tweet1+\" \"+df.tweet2+\" \"+df.tweet3"
      ],
      "metadata": {
        "id": "cQScDk68UyWw"
      },
      "execution_count": 9,
      "outputs": []
    },
    {
      "cell_type": "code",
      "source": [
        "data_baru=pd.DataFrame(data={'TweetText':tweets,'target':df.target.to_list()})\n",
        "data_baru.head()"
      ],
      "metadata": {
        "colab": {
          "base_uri": "https://localhost:8080/",
          "height": 206
        },
        "id": "nEoTiNqXE7Bu",
        "outputId": "d1f518db-e905-4465-b5ec-611628838740"
      },
      "execution_count": 10,
      "outputs": [
        {
          "output_type": "execute_result",
          "data": {
            "text/plain": [
              "                                           TweetText  target\n",
              "0  the lack understanding small significant part ...       0\n",
              "1  told parents depression hard get gen x people ...       0\n",
              "2  depression something speak even going also dou...       0\n",
              "3  made tortilla filled pb j my depression cured ...       0\n",
              "4  i gon na need depression meds soon rainouts sp...       0"
            ],
            "text/html": [
              "\n",
              "  <div id=\"df-56b7ab17-fcfc-41f6-a706-ff000b390b4c\">\n",
              "    <div class=\"colab-df-container\">\n",
              "      <div>\n",
              "<style scoped>\n",
              "    .dataframe tbody tr th:only-of-type {\n",
              "        vertical-align: middle;\n",
              "    }\n",
              "\n",
              "    .dataframe tbody tr th {\n",
              "        vertical-align: top;\n",
              "    }\n",
              "\n",
              "    .dataframe thead th {\n",
              "        text-align: right;\n",
              "    }\n",
              "</style>\n",
              "<table border=\"1\" class=\"dataframe\">\n",
              "  <thead>\n",
              "    <tr style=\"text-align: right;\">\n",
              "      <th></th>\n",
              "      <th>TweetText</th>\n",
              "      <th>target</th>\n",
              "    </tr>\n",
              "  </thead>\n",
              "  <tbody>\n",
              "    <tr>\n",
              "      <th>0</th>\n",
              "      <td>the lack understanding small significant part ...</td>\n",
              "      <td>0</td>\n",
              "    </tr>\n",
              "    <tr>\n",
              "      <th>1</th>\n",
              "      <td>told parents depression hard get gen x people ...</td>\n",
              "      <td>0</td>\n",
              "    </tr>\n",
              "    <tr>\n",
              "      <th>2</th>\n",
              "      <td>depression something speak even going also dou...</td>\n",
              "      <td>0</td>\n",
              "    </tr>\n",
              "    <tr>\n",
              "      <th>3</th>\n",
              "      <td>made tortilla filled pb j my depression cured ...</td>\n",
              "      <td>0</td>\n",
              "    </tr>\n",
              "    <tr>\n",
              "      <th>4</th>\n",
              "      <td>i gon na need depression meds soon rainouts sp...</td>\n",
              "      <td>0</td>\n",
              "    </tr>\n",
              "  </tbody>\n",
              "</table>\n",
              "</div>\n",
              "      <button class=\"colab-df-convert\" onclick=\"convertToInteractive('df-56b7ab17-fcfc-41f6-a706-ff000b390b4c')\"\n",
              "              title=\"Convert this dataframe to an interactive table.\"\n",
              "              style=\"display:none;\">\n",
              "        \n",
              "  <svg xmlns=\"http://www.w3.org/2000/svg\" height=\"24px\"viewBox=\"0 0 24 24\"\n",
              "       width=\"24px\">\n",
              "    <path d=\"M0 0h24v24H0V0z\" fill=\"none\"/>\n",
              "    <path d=\"M18.56 5.44l.94 2.06.94-2.06 2.06-.94-2.06-.94-.94-2.06-.94 2.06-2.06.94zm-11 1L8.5 8.5l.94-2.06 2.06-.94-2.06-.94L8.5 2.5l-.94 2.06-2.06.94zm10 10l.94 2.06.94-2.06 2.06-.94-2.06-.94-.94-2.06-.94 2.06-2.06.94z\"/><path d=\"M17.41 7.96l-1.37-1.37c-.4-.4-.92-.59-1.43-.59-.52 0-1.04.2-1.43.59L10.3 9.45l-7.72 7.72c-.78.78-.78 2.05 0 2.83L4 21.41c.39.39.9.59 1.41.59.51 0 1.02-.2 1.41-.59l7.78-7.78 2.81-2.81c.8-.78.8-2.07 0-2.86zM5.41 20L4 18.59l7.72-7.72 1.47 1.35L5.41 20z\"/>\n",
              "  </svg>\n",
              "      </button>\n",
              "      \n",
              "  <style>\n",
              "    .colab-df-container {\n",
              "      display:flex;\n",
              "      flex-wrap:wrap;\n",
              "      gap: 12px;\n",
              "    }\n",
              "\n",
              "    .colab-df-convert {\n",
              "      background-color: #E8F0FE;\n",
              "      border: none;\n",
              "      border-radius: 50%;\n",
              "      cursor: pointer;\n",
              "      display: none;\n",
              "      fill: #1967D2;\n",
              "      height: 32px;\n",
              "      padding: 0 0 0 0;\n",
              "      width: 32px;\n",
              "    }\n",
              "\n",
              "    .colab-df-convert:hover {\n",
              "      background-color: #E2EBFA;\n",
              "      box-shadow: 0px 1px 2px rgba(60, 64, 67, 0.3), 0px 1px 3px 1px rgba(60, 64, 67, 0.15);\n",
              "      fill: #174EA6;\n",
              "    }\n",
              "\n",
              "    [theme=dark] .colab-df-convert {\n",
              "      background-color: #3B4455;\n",
              "      fill: #D2E3FC;\n",
              "    }\n",
              "\n",
              "    [theme=dark] .colab-df-convert:hover {\n",
              "      background-color: #434B5C;\n",
              "      box-shadow: 0px 1px 3px 1px rgba(0, 0, 0, 0.15);\n",
              "      filter: drop-shadow(0px 1px 2px rgba(0, 0, 0, 0.3));\n",
              "      fill: #FFFFFF;\n",
              "    }\n",
              "  </style>\n",
              "\n",
              "      <script>\n",
              "        const buttonEl =\n",
              "          document.querySelector('#df-56b7ab17-fcfc-41f6-a706-ff000b390b4c button.colab-df-convert');\n",
              "        buttonEl.style.display =\n",
              "          google.colab.kernel.accessAllowed ? 'block' : 'none';\n",
              "\n",
              "        async function convertToInteractive(key) {\n",
              "          const element = document.querySelector('#df-56b7ab17-fcfc-41f6-a706-ff000b390b4c');\n",
              "          const dataTable =\n",
              "            await google.colab.kernel.invokeFunction('convertToInteractive',\n",
              "                                                     [key], {});\n",
              "          if (!dataTable) return;\n",
              "\n",
              "          const docLinkHtml = 'Like what you see? Visit the ' +\n",
              "            '<a target=\"_blank\" href=https://colab.research.google.com/notebooks/data_table.ipynb>data table notebook</a>'\n",
              "            + ' to learn more about interactive tables.';\n",
              "          element.innerHTML = '';\n",
              "          dataTable['output_type'] = 'display_data';\n",
              "          await google.colab.output.renderOutput(dataTable, element);\n",
              "          const docLink = document.createElement('div');\n",
              "          docLink.innerHTML = docLinkHtml;\n",
              "          element.appendChild(docLink);\n",
              "        }\n",
              "      </script>\n",
              "    </div>\n",
              "  </div>\n",
              "  "
            ]
          },
          "metadata": {},
          "execution_count": 10
        }
      ]
    },
    {
      "cell_type": "code",
      "source": [
        "\n",
        "data_baru.TweetText"
      ],
      "metadata": {
        "colab": {
          "base_uri": "https://localhost:8080/"
        },
        "id": "JZnSS10Ki0RO",
        "outputId": "a7e0f795-7618-4e3c-c948-6666893c5098"
      },
      "execution_count": 11,
      "outputs": [
        {
          "output_type": "execute_result",
          "data": {
            "text/plain": [
              "0       the lack understanding small significant part ...\n",
              "1       told parents depression hard get gen x people ...\n",
              "2       depression something speak even going also dou...\n",
              "3       made tortilla filled pb j my depression cured ...\n",
              "4       i gon na need depression meds soon rainouts sp...\n",
              "                              ...                        \n",
              "6289    dog say hi haha cant wait see up looks cut seb...\n",
              "6290    did u forget i even alive did u forget everyth...\n",
              "6291    pity dead pity living live without lov vettel ...\n",
              "6292    hellen keller girl talk hips heading north hil...\n",
              "6293    do makes happy makes smil this makes sad i non...\n",
              "Name: TweetText, Length: 6294, dtype: object"
            ]
          },
          "metadata": {},
          "execution_count": 11
        }
      ]
    },
    {
      "cell_type": "code",
      "source": [
        "#corpus\n",
        "sentences = []\n",
        "labels = []\n",
        "fields = []\n",
        "D1 = gen_rows(data_baru)\n",
        "for i in range(len(data_baru)):\n",
        "  d=next(D1)\n",
        "  labels.append(d['target'])\n",
        "  sentence = str(d['TweetText'])\n",
        "  for word in stopword:\n",
        "    token = \" \" + word + \" \"\n",
        "    sentence = sentence.replace(token, \" \")\n",
        "    sentence = sentence.replace(\"  \", \" \")\n",
        "  sentences.append(sentence)\n",
        "    \n",
        "print(len(sentences))\n",
        "print(sentences[0])"
      ],
      "metadata": {
        "colab": {
          "base_uri": "https://localhost:8080/"
        },
        "id": "_DtEoppkwctP",
        "outputId": "d6a9ec9a-f4b9-4626-8f75-7d77eb8e7ab8"
      },
      "execution_count": 12,
      "outputs": [
        {
          "output_type": "stream",
          "name": "stdout",
          "text": [
            "6294\n",
            "the lack understanding small significant part causes anxiety depression feel incredibly lonely soooo easy compare easy invalid try hard even know thats lie dont know whats wrong anymore pissed away many good things life feel one persons fault ive dragging ball chain behind years nowi cant find motivation change situation ive put homeless lived bed truck kicked countless houses becausei ama terrible employee cant keep job quit tractor trailer driving job didnt want away family thati amhome cant muster strength look face anymorei always late rent cant control money nowi amsquatting run house holes roof walls ceiling plumbing electricity drop cord neighbors house cats years going town town job job house house feel likei amat point ive become burden everyone around cant ask help seems likei amalways leeching everyone sleep absolutely wake work dont even want awake anymore amwriting thought one would notice weeks maybe months despite everyone knows one cares visit call acknowledge existence dont blam someone help kill carbon monoxide ive done research concluded carbon monoxide seems least painful method suicide done correctly need help setting everything right specs etc ensure peaceful death already know co pure possible avoid feeling suffocation need know things like ppm carbon monoxide get size cylinder many litres necessary specs roomi medium sized garage anything else think would ensure death painless certain thank adv\n"
          ]
        }
      ]
    },
    {
      "cell_type": "code",
      "source": [
        "sentences,labels=rndm(sentences,labels)"
      ],
      "metadata": {
        "id": "6H_oVoh7DtGa"
      },
      "execution_count": 13,
      "outputs": []
    },
    {
      "cell_type": "code",
      "source": [
        "tokenizer = Tokenizer(oov_token=oov_tok)\n",
        "tokenizer.fit_on_texts(sentences) \n",
        "\n",
        "word_index = tokenizer.word_index\n",
        "vocab_size=len(word_index)    \n",
        "\n",
        "sequences = tokenizer.texts_to_sequences(sentences)  \n",
        "padded = pad_sequences(sequences, maxlen=max_length, padding = padding_type, truncating=trunc_type)\n",
        "\n",
        "split = int(test_portion * training_size)\n",
        "\n",
        "test_sequences = padded[0:split] \n",
        "training_sequences = padded[split:training_size]\n",
        "test_labels = labels[0:split]\n",
        "training_labels = labels[split:training_size] "
      ],
      "metadata": {
        "id": "PN3qRc_L0nzx"
      },
      "execution_count": 14,
      "outputs": []
    },
    {
      "cell_type": "code",
      "source": [
        "embeddings_index = {};\n",
        "with open('/content/drive/MyDrive/M_care/glove.6B.100d.txt') as f:\n",
        "    for line in f:\n",
        "        values = line.split()\n",
        "        word = values[0]\n",
        "        coefs = np.asarray(values[1:], dtype='float32')\n",
        "        embeddings_index[word] = coefs\n",
        "\n",
        "embeddings_matrix = np.zeros((vocab_size+1, embedding_dim))\n",
        "for word, i in word_index.items():\n",
        "    embedding_vector = embeddings_index.get(word)\n",
        "    if embedding_vector is not None:\n",
        "        embeddings_matrix[i] = embedding_vector"
      ],
      "metadata": {
        "id": "YFPsmQKu02JK"
      },
      "execution_count": 15,
      "outputs": []
    },
    {
      "cell_type": "code",
      "source": [
        "sentences[1]"
      ],
      "metadata": {
        "colab": {
          "base_uri": "https://localhost:8080/",
          "height": 157
        },
        "id": "3M_CqmNRXKFF",
        "outputId": "678f6fae-9faa-4e78-95c8-adeb687f2239"
      },
      "execution_count": 16,
      "outputs": [
        {
          "output_type": "execute_result",
          "data": {
            "text/plain": [
              "'see i learned lot rpdri pan seeing strong individuals inspire mei anxiety depression watching katya miss fame made realize normal feel awfuli bulimic need help i exception recoveri running ideas feel like entire life distractions procrastinating one day run ways put suicidei amsick saying wait one day dont want try anymorei exhausted cant remember time depressed always something wrong wish rely someone else moments much burden carry ruin everything touch future cant keep got asked questions suicidal tendancies new clinic made uncomfortable going huge changes minute including moving parents house signed new mental health counsellor got urgant call back response severity desire kill ive pretfy good recently think move life start picking saying loud thoughts killing reminded uncommon intense thoughts find days unbearable best love full self hatr'"
            ],
            "application/vnd.google.colaboratory.intrinsic+json": {
              "type": "string"
            }
          },
          "metadata": {},
          "execution_count": 16
        }
      ]
    },
    {
      "cell_type": "markdown",
      "source": [
        "Model"
      ],
      "metadata": {
        "id": "-i8n9CSgqlqc"
      }
    },
    {
      "cell_type": "code",
      "source": [
        "model = tf.keras.Sequential([\n",
        "    Embedding(vocab_size+1, embedding_dim, input_length=max_length, weights=[embeddings_matrix], trainable=True),\n",
        "    Bidirectional(LSTM(150, return_sequences=True,name='Bi_LSTM')),\n",
        "    Dropout(0.2),\n",
        "    LSTM(50,name='Lstm_final'),\n",
        "    Dropout(0.2),\n",
        "    Dense(20, activation='relu'),\n",
        "    Dense(2, activation='softmax')\n",
        "])"
      ],
      "metadata": {
        "id": "C9s_DkAL3Uhm"
      },
      "execution_count": 36,
      "outputs": []
    },
    {
      "cell_type": "code",
      "source": [
        "model.compile(loss='binary_crossentropy', optimizer='SGD', metrics='accuracy') \n",
        "\n",
        "num_epochs = 40\n",
        "history = model.fit(training_sequences, tf.one_hot(training_labels, 2), epochs=num_epochs, validation_data=(test_sequences, tf.one_hot(test_labels,2)), verbose=2)\n"
      ],
      "metadata": {
        "id": "FOPr3vlKp4Gn",
        "colab": {
          "base_uri": "https://localhost:8080/"
        },
        "outputId": "df73f7fd-d5b0-445b-aee8-2e28e641c2b2"
      },
      "execution_count": 37,
      "outputs": [
        {
          "output_type": "stream",
          "name": "stdout",
          "text": [
            "Epoch 1/40\n",
            "51/51 - 10s - loss: 0.6947 - accuracy: 0.4941 - val_loss: 0.6840 - val_accuracy: 0.5687 - 10s/epoch - 194ms/step\n",
            "Epoch 2/40\n",
            "51/51 - 3s - loss: 0.6843 - accuracy: 0.5859 - val_loss: 0.6711 - val_accuracy: 0.6585 - 3s/epoch - 65ms/step\n",
            "Epoch 3/40\n",
            "51/51 - 3s - loss: 0.6718 - accuracy: 0.6522 - val_loss: 0.6555 - val_accuracy: 0.7525 - 3s/epoch - 65ms/step\n",
            "Epoch 4/40\n",
            "51/51 - 3s - loss: 0.6542 - accuracy: 0.7551 - val_loss: 0.6392 - val_accuracy: 0.8321 - 3s/epoch - 65ms/step\n",
            "Epoch 5/40\n",
            "51/51 - 3s - loss: 0.6350 - accuracy: 0.7936 - val_loss: 0.6103 - val_accuracy: 0.8220 - 3s/epoch - 65ms/step\n",
            "Epoch 6/40\n",
            "51/51 - 3s - loss: 0.6069 - accuracy: 0.8184 - val_loss: 0.5757 - val_accuracy: 0.8452 - 3s/epoch - 66ms/step\n",
            "Epoch 7/40\n",
            "51/51 - 3s - loss: 0.5687 - accuracy: 0.8388 - val_loss: 0.5361 - val_accuracy: 0.8538 - 3s/epoch - 65ms/step\n",
            "Epoch 8/40\n",
            "51/51 - 3s - loss: 0.5207 - accuracy: 0.8568 - val_loss: 0.4753 - val_accuracy: 0.8669 - 3s/epoch - 65ms/step\n",
            "Epoch 9/40\n",
            "51/51 - 3s - loss: 0.4662 - accuracy: 0.8636 - val_loss: 0.4156 - val_accuracy: 0.8828 - 3s/epoch - 66ms/step\n",
            "Epoch 10/40\n",
            "51/51 - 3s - loss: 0.4139 - accuracy: 0.8679 - val_loss: 0.3787 - val_accuracy: 0.8509 - 3s/epoch - 65ms/step\n",
            "Epoch 11/40\n",
            "51/51 - 3s - loss: 0.3709 - accuracy: 0.8797 - val_loss: 0.3434 - val_accuracy: 0.8813 - 3s/epoch - 65ms/step\n",
            "Epoch 12/40\n",
            "51/51 - 3s - loss: 0.3533 - accuracy: 0.8717 - val_loss: 0.3883 - val_accuracy: 0.8278 - 3s/epoch - 65ms/step\n",
            "Epoch 13/40\n",
            "51/51 - 3s - loss: 0.3355 - accuracy: 0.8760 - val_loss: 0.3474 - val_accuracy: 0.8452 - 3s/epoch - 65ms/step\n",
            "Epoch 14/40\n",
            "51/51 - 3s - loss: 0.3233 - accuracy: 0.8853 - val_loss: 0.3657 - val_accuracy: 0.8394 - 3s/epoch - 65ms/step\n",
            "Epoch 15/40\n",
            "51/51 - 3s - loss: 0.3095 - accuracy: 0.8903 - val_loss: 0.3233 - val_accuracy: 0.8582 - 3s/epoch - 65ms/step\n",
            "Epoch 16/40\n",
            "51/51 - 3s - loss: 0.2964 - accuracy: 0.8865 - val_loss: 0.3959 - val_accuracy: 0.8249 - 3s/epoch - 65ms/step\n",
            "Epoch 17/40\n",
            "51/51 - 3s - loss: 0.2862 - accuracy: 0.8952 - val_loss: 0.2818 - val_accuracy: 0.8828 - 3s/epoch - 65ms/step\n",
            "Epoch 18/40\n",
            "51/51 - 3s - loss: 0.2800 - accuracy: 0.8946 - val_loss: 0.2984 - val_accuracy: 0.8871 - 3s/epoch - 66ms/step\n",
            "Epoch 19/40\n",
            "51/51 - 3s - loss: 0.2685 - accuracy: 0.9014 - val_loss: 0.4484 - val_accuracy: 0.7988 - 3s/epoch - 65ms/step\n",
            "Epoch 20/40\n",
            "51/51 - 3s - loss: 0.2672 - accuracy: 0.9051 - val_loss: 0.3616 - val_accuracy: 0.8495 - 3s/epoch - 65ms/step\n",
            "Epoch 21/40\n",
            "51/51 - 3s - loss: 0.2614 - accuracy: 0.8989 - val_loss: 0.4539 - val_accuracy: 0.7988 - 3s/epoch - 66ms/step\n",
            "Epoch 22/40\n",
            "51/51 - 3s - loss: 0.2605 - accuracy: 0.9070 - val_loss: 0.3875 - val_accuracy: 0.8220 - 3s/epoch - 66ms/step\n",
            "Epoch 23/40\n",
            "51/51 - 3s - loss: 0.2532 - accuracy: 0.9082 - val_loss: 0.2622 - val_accuracy: 0.8900 - 3s/epoch - 65ms/step\n",
            "Epoch 24/40\n",
            "51/51 - 3s - loss: 0.2442 - accuracy: 0.9169 - val_loss: 0.2621 - val_accuracy: 0.9016 - 3s/epoch - 66ms/step\n",
            "Epoch 25/40\n",
            "51/51 - 3s - loss: 0.2412 - accuracy: 0.9126 - val_loss: 0.3000 - val_accuracy: 0.8813 - 3s/epoch - 66ms/step\n",
            "Epoch 26/40\n",
            "51/51 - 3s - loss: 0.2335 - accuracy: 0.9219 - val_loss: 0.3369 - val_accuracy: 0.8683 - 3s/epoch - 65ms/step\n",
            "Epoch 27/40\n",
            "51/51 - 3s - loss: 0.2386 - accuracy: 0.9113 - val_loss: 0.2629 - val_accuracy: 0.8958 - 3s/epoch - 66ms/step\n",
            "Epoch 28/40\n",
            "51/51 - 3s - loss: 0.2433 - accuracy: 0.9126 - val_loss: 0.2642 - val_accuracy: 0.8915 - 3s/epoch - 65ms/step\n",
            "Epoch 29/40\n",
            "51/51 - 3s - loss: 0.2278 - accuracy: 0.9182 - val_loss: 0.2689 - val_accuracy: 0.8871 - 3s/epoch - 66ms/step\n",
            "Epoch 30/40\n",
            "51/51 - 3s - loss: 0.2266 - accuracy: 0.9169 - val_loss: 0.2692 - val_accuracy: 0.8915 - 3s/epoch - 66ms/step\n",
            "Epoch 31/40\n",
            "51/51 - 3s - loss: 0.2125 - accuracy: 0.9244 - val_loss: 0.2620 - val_accuracy: 0.9001 - 3s/epoch - 65ms/step\n",
            "Epoch 32/40\n",
            "51/51 - 3s - loss: 0.2212 - accuracy: 0.9219 - val_loss: 0.2760 - val_accuracy: 0.8900 - 3s/epoch - 65ms/step\n",
            "Epoch 33/40\n",
            "51/51 - 3s - loss: 0.2344 - accuracy: 0.9175 - val_loss: 0.2627 - val_accuracy: 0.8929 - 3s/epoch - 66ms/step\n",
            "Epoch 34/40\n",
            "51/51 - 3s - loss: 0.2151 - accuracy: 0.9237 - val_loss: 0.2790 - val_accuracy: 0.8886 - 3s/epoch - 65ms/step\n",
            "Epoch 35/40\n",
            "51/51 - 3s - loss: 0.2207 - accuracy: 0.9188 - val_loss: 0.2601 - val_accuracy: 0.8915 - 3s/epoch - 65ms/step\n",
            "Epoch 36/40\n",
            "51/51 - 3s - loss: 0.2188 - accuracy: 0.9200 - val_loss: 0.3111 - val_accuracy: 0.8755 - 3s/epoch - 66ms/step\n",
            "Epoch 37/40\n",
            "51/51 - 3s - loss: 0.1980 - accuracy: 0.9330 - val_loss: 0.2779 - val_accuracy: 0.8929 - 3s/epoch - 66ms/step\n",
            "Epoch 38/40\n",
            "51/51 - 3s - loss: 0.2046 - accuracy: 0.9312 - val_loss: 0.2893 - val_accuracy: 0.8842 - 3s/epoch - 65ms/step\n",
            "Epoch 39/40\n",
            "51/51 - 3s - loss: 0.1979 - accuracy: 0.9330 - val_loss: 0.3450 - val_accuracy: 0.8698 - 3s/epoch - 65ms/step\n",
            "Epoch 40/40\n",
            "51/51 - 3s - loss: 0.1968 - accuracy: 0.9287 - val_loss: 0.2608 - val_accuracy: 0.8987 - 3s/epoch - 66ms/step\n"
          ]
        }
      ]
    },
    {
      "cell_type": "code",
      "source": [
        "plt.plot(history.history['accuracy'])\n",
        "plt.plot(history.history['val_accuracy'])\n",
        "plt.title('Model accuracy')\n",
        "plt.ylabel('Accuracy')\n",
        "plt.xlabel('Epoch')\n",
        "plt.legend(['Train', 'Validation'], loc='upper left')\n",
        "plt.show()\n",
        "\n",
        "plt.plot(history.history['loss'])\n",
        "plt.plot(history.history['val_loss'])\n",
        "plt.title('Model loss')\n",
        "plt.ylabel('Loss')\n",
        "plt.xlabel('Epoch')\n",
        "plt.legend(['Train', 'Validation'], loc='upper left')\n",
        "plt.show()"
      ],
      "metadata": {
        "colab": {
          "base_uri": "https://localhost:8080/",
          "height": 573
        },
        "id": "ptEQD2aFFnKt",
        "outputId": "d849ae91-3dc2-48b4-f763-29acf97828e4"
      },
      "execution_count": 38,
      "outputs": [
        {
          "output_type": "display_data",
          "data": {
            "text/plain": [
              "<Figure size 432x288 with 1 Axes>"
            ],
            "image/png": "[encoded data removed]"
          },
          "metadata": {
            "needs_background": "light"
          }
        },
        {
          "output_type": "display_data",
          "data": {
            "text/plain": [
              "<Figure size 432x288 with 1 Axes>"
            ],
            "image/png": "[encoded data removed]"
          },
          "metadata": {
            "needs_background": "light"
          }
        }
      ]
    },
    {
      "cell_type": "code",
      "source": [
        "# Save Model to Json\n",
        "model_json = model.to_json()\n",
        "with open('model.json','w') as json_file:\n",
        "    json_file.write(model_json)\n",
        "model.save_weights('model.h5')"
      ],
      "metadata": {
        "id": "VP3hGKc5j0gb"
      },
      "execution_count": null,
      "outputs": []
    },
    {
      "cell_type": "code",
      "source": [
        "with open('token.json','w') as json_file:\n",
        "  json_file.write(tokenizer.to_json())"
      ],
      "metadata": {
        "id": "6BloBFfgc5XT"
      },
      "execution_count": null,
      "outputs": []
    },
    {
      "cell_type": "code",
      "source": [
        "from google.colab import files\n",
        "files.download('token.json')\n",
        "files.download('model.json')\n",
        "files.download('model.h5')"
      ],
      "metadata": {
        "id": "VkXVi6H0v5t9",
        "outputId": "3372e30f-a5f8-498d-edb7-38aa9e2b8d22",
        "colab": {
          "base_uri": "https://localhost:8080/",
          "height": 34
        }
      },
      "execution_count": null,
      "outputs": [
        {
          "output_type": "display_data",
          "data": {
            "text/plain": [
              "<IPython.core.display.Javascript object>"
            ],
            "application/javascript": [
              "\n",
              "    async function download(id, filename, size) {\n",
              "      if (!google.colab.kernel.accessAllowed) {\n",
              "        return;\n",
              "      }\n",
              "      const div = document.createElement('div');\n",
              "      const label = document.createElement('label');\n",
              "      label.textContent = `Downloading \"${filename}\": `;\n",
              "      div.appendChild(label);\n",
              "      const progress = document.createElement('progress');\n",
              "      progress.max = size;\n",
              "      div.appendChild(progress);\n",
              "      document.body.appendChild(div);\n",
              "\n",
              "      const buffers = [];\n",
              "      let downloaded = 0;\n",
              "\n",
              "      const channel = await google.colab.kernel.comms.open(id);\n",
              "      // Send a message to notify the kernel that we're ready.\n",
              "      channel.send({})\n",
              "\n",
              "      for await (const message of channel.messages) {\n",
              "        // Send a message to notify the kernel that we're ready.\n",
              "        channel.send({})\n",
              "        if (message.buffers) {\n",
              "          for (const buffer of message.buffers) {\n",
              "            buffers.push(buffer);\n",
              "            downloaded += buffer.byteLength;\n",
              "            progress.value = downloaded;\n",
              "          }\n",
              "        }\n",
              "      }\n",
              "      const blob = new Blob(buffers, {type: 'application/binary'});\n",
              "      const a = document.createElement('a');\n",
              "      a.href = window.URL.createObjectURL(blob);\n",
              "      a.download = filename;\n",
              "      div.appendChild(a);\n",
              "      a.click();\n",
              "      div.remove();\n",
              "    }\n",
              "  "
            ]
          },
          "metadata": {}
        },
        {
          "output_type": "display_data",
          "data": {
            "text/plain": [
              "<IPython.core.display.Javascript object>"
            ],
            "application/javascript": [
              "download(\"download_d0c2a657-c619-4150-8c5f-ad9bd754fe2a\", \"token.json\", 3110897)"
            ]
          },
          "metadata": {}
        },
        {
          "output_type": "display_data",
          "data": {
            "text/plain": [
              "<IPython.core.display.Javascript object>"
            ],
            "application/javascript": [
              "\n",
              "    async function download(id, filename, size) {\n",
              "      if (!google.colab.kernel.accessAllowed) {\n",
              "        return;\n",
              "      }\n",
              "      const div = document.createElement('div');\n",
              "      const label = document.createElement('label');\n",
              "      label.textContent = `Downloading \"${filename}\": `;\n",
              "      div.appendChild(label);\n",
              "      const progress = document.createElement('progress');\n",
              "      progress.max = size;\n",
              "      div.appendChild(progress);\n",
              "      document.body.appendChild(div);\n",
              "\n",
              "      const buffers = [];\n",
              "      let downloaded = 0;\n",
              "\n",
              "      const channel = await google.colab.kernel.comms.open(id);\n",
              "      // Send a message to notify the kernel that we're ready.\n",
              "      channel.send({})\n",
              "\n",
              "      for await (const message of channel.messages) {\n",
              "        // Send a message to notify the kernel that we're ready.\n",
              "        channel.send({})\n",
              "        if (message.buffers) {\n",
              "          for (const buffer of message.buffers) {\n",
              "            buffers.push(buffer);\n",
              "            downloaded += buffer.byteLength;\n",
              "            progress.value = downloaded;\n",
              "          }\n",
              "        }\n",
              "      }\n",
              "      const blob = new Blob(buffers, {type: 'application/binary'});\n",
              "      const a = document.createElement('a');\n",
              "      a.href = window.URL.createObjectURL(blob);\n",
              "      a.download = filename;\n",
              "      div.appendChild(a);\n",
              "      a.click();\n",
              "      div.remove();\n",
              "    }\n",
              "  "
            ]
          },
          "metadata": {}
        },
        {
          "output_type": "display_data",
          "data": {
            "text/plain": [
              "<IPython.core.display.Javascript object>"
            ],
            "application/javascript": [
              "download(\"download_efe63754-6110-4268-bc11-1275f346fdb6\", \"model.json\", 3666)"
            ]
          },
          "metadata": {}
        },
        {
          "output_type": "display_data",
          "data": {
            "text/plain": [
              "<IPython.core.display.Javascript object>"
            ],
            "application/javascript": [
              "\n",
              "    async function download(id, filename, size) {\n",
              "      if (!google.colab.kernel.accessAllowed) {\n",
              "        return;\n",
              "      }\n",
              "      const div = document.createElement('div');\n",
              "      const label = document.createElement('label');\n",
              "      label.textContent = `Downloading \"${filename}\": `;\n",
              "      div.appendChild(label);\n",
              "      const progress = document.createElement('progress');\n",
              "      progress.max = size;\n",
              "      div.appendChild(progress);\n",
              "      document.body.appendChild(div);\n",
              "\n",
              "      const buffers = [];\n",
              "      let downloaded = 0;\n",
              "\n",
              "      const channel = await google.colab.kernel.comms.open(id);\n",
              "      // Send a message to notify the kernel that we're ready.\n",
              "      channel.send({})\n",
              "\n",
              "      for await (const message of channel.messages) {\n",
              "        // Send a message to notify the kernel that we're ready.\n",
              "        channel.send({})\n",
              "        if (message.buffers) {\n",
              "          for (const buffer of message.buffers) {\n",
              "            buffers.push(buffer);\n",
              "            downloaded += buffer.byteLength;\n",
              "            progress.value = downloaded;\n",
              "          }\n",
              "        }\n",
              "      }\n",
              "      const blob = new Blob(buffers, {type: 'application/binary'});\n",
              "      const a = document.createElement('a');\n",
              "      a.href = window.URL.createObjectURL(blob);\n",
              "      a.download = filename;\n",
              "      div.appendChild(a);\n",
              "      a.click();\n",
              "      div.remove();\n",
              "    }\n",
              "  "
            ]
          },
          "metadata": {}
        },
        {
          "output_type": "display_data",
          "data": {
            "text/plain": [
              "<IPython.core.display.Javascript object>"
            ],
            "application/javascript": [
              "download(\"download_04afa5ed-26ef-48ea-9a4a-9b45d891e97a\", \"model.h5\", 15329336)"
            ]
          },
          "metadata": {}
        }
      ]
    },
    {
      "cell_type": "code",
      "source": [
        ""
      ],
      "metadata": {
        "id": "9JnmeXXrAk4E"
      },
      "execution_count": null,
      "outputs": []
    }
  ]
}